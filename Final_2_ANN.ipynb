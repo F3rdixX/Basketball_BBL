{
 "cells": [
  {
   "cell_type": "code",
   "execution_count": 1,
   "metadata": {},
   "outputs": [
    {
     "name": "stderr",
     "output_type": "stream",
     "text": [
      "Using TensorFlow backend.\n"
     ]
    }
   ],
   "source": [
    "import keras\n"
   ]
  },
  {
   "cell_type": "markdown",
   "metadata": {},
   "source": [
    "# Data Set Preprocessing\n"
   ]
  },
  {
   "cell_type": "code",
   "execution_count": 2,
   "metadata": {
    "scrolled": true
   },
   "outputs": [],
   "source": [
    "import urllib.request, json \n",
    "with urllib.request.urlopen(\"http://statistik.easycredit-bbl.de/XML/exchange/540/Schedule.php?type=json&saison=2017&fixedGamesOnly=0\") as url:\n",
    "    games = json.loads(url.read().decode())\n",
    "    #print(json.dumps(games, indent=4, sort_keys=True))\n",
    "    "
   ]
  },
  {
   "cell_type": "code",
   "execution_count": 3,
   "metadata": {},
   "outputs": [],
   "source": [
    "\n",
    "\n",
    "arena=[]\n",
    "home_ids=[]\n",
    "for i in range(0,len(games['competition'][0]['spiel'])):\n",
    "               \n",
    "    if games['competition'][0]['spiel'][i]['home_id'] not in home_ids:\n",
    "        arena.append(games['competition'][0]['spiel'][i]['arenaName'])\n",
    "        home_ids.append(games['competition'][0]['spiel'][i]['home_id'])\n",
    "\n",
    "               "
   ]
  },
  {
   "cell_type": "code",
   "execution_count": 4,
   "metadata": {},
   "outputs": [
    {
     "name": "stdout",
     "output_type": "stream",
     "text": [
      "2017-09-29 20:30:00\n",
      "39\n",
      "5\n"
     ]
    }
   ],
   "source": [
    "from datetime import datetime\n",
    "\n",
    "datetime_object = datetime.strptime(games['competition'][0]['spiel'][0]['datum']+\" \"+games['competition'][0]['spiel'][0]['uhrzeit']  , '%Y-%m-%d %H:%M:%S')\n",
    "\n",
    "print(datetime_object)\n",
    "print(datetime_object.strftime('%U'))\n",
    "print(datetime_object.strftime('%w'))\n"
   ]
  },
  {
   "cell_type": "code",
   "execution_count": 5,
   "metadata": {},
   "outputs": [
    {
     "name": "stdout",
     "output_type": "stream",
     "text": [
      "{486: 6594, 413: 14500, 433: 4200, 420: 6150, 415: 6000, 425: 3300, 430: 6000, 426: 5002, 540: 3140, 418: 6200, 421: 4003, 422: 3603, 483: 3076, 477: 3447, 428: 3000, 439: 4200, 517: 3533, 432: 3132}\n",
      "18\n"
     ]
    }
   ],
   "source": [
    "#dictionary für die Hallenkapazitäten\n",
    "arenakap = {486:6594,413:14500,433:4200,420:6150,415:6000,425:3300,430:6000,426:5002,540:3140,418:6200,421:4003,422:3603,483:3076,477:3447,428:3000,439:4200,517:3533,432:3132}\n",
    "print(arenakap)\n",
    "print(len(arenakap))\n"
   ]
  },
  {
   "cell_type": "code",
   "execution_count": 6,
   "metadata": {},
   "outputs": [
    {
     "name": "stdout",
     "output_type": "stream",
     "text": [
      "<class 'str'>\n"
     ]
    }
   ],
   "source": [
    "print(type(games['competition'][0]['spiel'][0]['home_id']))\n",
    "#Die JSON Informationen sind als String angegeben"
   ]
  },
  {
   "cell_type": "markdown",
   "metadata": {},
   "source": [
    "Deshalb parse (int) ich die Zuschauer und home_id für die weitere Berechnung"
   ]
  },
  {
   "cell_type": "code",
   "execution_count": 93,
   "metadata": {
    "scrolled": true
   },
   "outputs": [
    {
     "name": "stdout",
     "output_type": "stream",
     "text": [
      "['39', '40', '41', '42', '43', '44', '45', '46', '47', '48', '49', '50', '51', '52', '00', '01', '02', '03', '04', '05', '06', '07', '08', '09', '10', '11', '12', '13', '14', '15', '16', '17']\n",
      "['5', '6', '1', '2', '3', '4', '0']\n"
     ]
    }
   ],
   "source": [
    "#Dataset zusammenstellen\n",
    "dataset=[]\n",
    "calendarWeeks=[]\n",
    "weekDays=[]\n",
    "\n",
    "for i in range(0,len(games['competition'][0]['spiel'])):\n",
    "    datasetrow=[]     \n",
    "    datasetrow.append(games['competition'][0]['spiel'][i]['home_id'])\n",
    "    datasetrow.append(games['competition'][0]['spiel'][i]['gast_id'])\n",
    "    datasetrow.append(int(games['competition'][0]['spiel'][i]['home_result']>games['competition'][0]['spiel'][i]['gast_result']))\n",
    "    datasetrow.append(int(games['competition'][0]['spiel'][i]['zuschauer']))\n",
    "    datasetrow.append(arenakap[int(games['competition'][0]['spiel'][i]['home_id'])])\n",
    "    datetime_object = datetime.strptime(games['competition'][0]['spiel'][i]['datum']+\" \"+games['competition'][0]['spiel'][i]['uhrzeit']  , '%Y-%m-%d %H:%M:%S')\n",
    "    kw = datetime_object.strftime('%U')\n",
    "    datasetrow.append(datetime_object.strftime('%U'))\n",
    "    if kw not in calendarWeeks:\n",
    "        calendarWeeks.append(kw)\n",
    "    days = datetime_object.strftime('%w')\n",
    "    datasetrow.append(datetime_object.strftime('%w'))\n",
    "    if days not in weekDays:\n",
    "        weekDays.append(days)\n",
    "    \n",
    "    dataset.append(datasetrow)\n",
    "\n",
    "#print(dataset)\n",
    "print(calendarWeeks)\n",
    "print(weekDays)\n",
    "# Eingangsneuronen - abhängig vom Dataset --> KW (32) Days (7)"
   ]
  },
  {
   "cell_type": "code",
   "execution_count": 94,
   "metadata": {},
   "outputs": [
    {
     "name": "stdout",
     "output_type": "stream",
     "text": [
      "['540' '422' '483' '418' '477' '421' '432' '428' '413' '420' '426' '483'\n",
      " '425' '486' '517' '415' '439' '413' '517' '477' '418' '428' '430' '540'\n",
      " '432' '422' '421' '433' '426' '430' '477' '486' '483' '433' '432' '415'\n",
      " '425' '418' '413' '422' '428' '486' '421' '540' '421' '413' '422' '477'\n",
      " '415' '433' '430' '439' '426' '418' '540' '486' '428' '483' '420' '425'\n",
      " '432' '517' '477' '422' '421' '432' '483' '439' '413' '426' '433' '420'\n",
      " '428' '418' '430' '425' '439' '415' '486' '517' '420' '477' '426' '430'\n",
      " '432' '421' '540' '415' '486' '439' '413' '486' '422' '425' '418' '433'\n",
      " '483' '517' '420' '428' '426' '540' '486' '432' '420' '421' '415' '425'\n",
      " '420' '439' '422' '418' '477' '433' '517' '430' '426' '483' '421' '418'\n",
      " '425' '428' '413' '540' '432' '422' '426' '517' '477' '420' '433' '483'\n",
      " '413' '540' '415' '418' '517' '439' '432' '428' '430' '425' '422' '477'\n",
      " '439' '421' '433' '430' '426' '428' '420' '421' '415' '430' '428' '439'\n",
      " '415' '517' '540' '413' '418' '421' '433' '432' '425' '415' '422' '428'\n",
      " '439' '477' '486' '430' '413' '483' '426' '517' '422' '540' '418' '430'\n",
      " '483' '425' '415' '428' '420' '413' '418' '425' '432' '433' '486' '483'\n",
      " '540' '422' '433' '439' '477' '413' '433' '426' '483' '421' '425' '477'\n",
      " '432' '439' '517' '418' '486' '415' '540' '483' '413' '418' '422' '421'\n",
      " '420' '428' '430' '426' '477' '432' '540' '425' '433' '517' '439' '486'\n",
      " '415' '477' '426' '517' '421' '430' '483' '517' '413' '418' '420' '422'\n",
      " '426' '486' '425' '477' '486' '540' '433' '432' '428' '439' '415' '420'\n",
      " '477' '413' '421' '483' '420' '430' '426' '422' '517' '540' '439' '420'\n",
      " '425' '428' '415' '433' '486' '432' '486' '418' '430' '421' '426' '422'\n",
      " '540' '425' '517' '439' '420' '413' '483' '428' '433' '415' '432' '430'\n",
      " '486' '421' '517' '426' '477' '418' '420' '432' '425' '433' '439' '415'\n",
      " '483' '422' '413' '430' '540' '428']\n",
      "306\n"
     ]
    }
   ],
   "source": [
    "# Umwandlung des Datasets in ein Numpy Array \n",
    "import numpy as np\n",
    "# : -> auslesen aller zeilen\n",
    "dataset=np.asarray(dataset)\n",
    "print(dataset[:,0])\n",
    "print(len(dataset))"
   ]
  },
  {
   "cell_type": "markdown",
   "metadata": {},
   "source": [
    "One hot encoding\n",
    "\n"
   ]
  },
  {
   "cell_type": "code",
   "execution_count": 95,
   "metadata": {},
   "outputs": [
    {
     "name": "stdout",
     "output_type": "stream",
     "text": [
      "[[0 0 0 ... 0 0 1]\n",
      " [0 0 0 ... 0 0 0]\n",
      " [0 0 0 ... 0 0 0]\n",
      " ...\n",
      " [0 0 0 ... 0 0 0]\n",
      " [0 0 0 ... 0 0 1]\n",
      " [0 0 0 ... 0 0 0]]\n"
     ]
    }
   ],
   "source": [
    "from sklearn.preprocessing import LabelBinarizer\n",
    "encoder = LabelBinarizer()\n",
    "transformed_home_ids = encoder.fit_transform(dataset[:,0])\n",
    "\n",
    "print(transformed_home_ids)"
   ]
  },
  {
   "cell_type": "code",
   "execution_count": 96,
   "metadata": {},
   "outputs": [
    {
     "name": "stdout",
     "output_type": "stream",
     "text": [
      "[[0 0 0 ... 0 0 0]\n",
      " [0 0 0 ... 0 0 0]\n",
      " [0 0 0 ... 0 0 0]\n",
      " ...\n",
      " [0 0 0 ... 0 0 0]\n",
      " [0 0 0 ... 0 0 0]\n",
      " [0 0 0 ... 0 0 0]]\n"
     ]
    }
   ],
   "source": [
    "#ohne fit, damit die Teams eindeutig bleiben, nur transformation notwendig\n",
    "transformed_gast_ids = encoder.transform(dataset[:,1])\n",
    "print(transformed_gast_ids)"
   ]
  },
  {
   "cell_type": "code",
   "execution_count": 97,
   "metadata": {},
   "outputs": [
    {
     "name": "stdout",
     "output_type": "stream",
     "text": [
      "32\n",
      "7\n"
     ]
    }
   ],
   "source": [
    "transformed_calendarWeek = encoder.fit_transform(dataset[:,5])\n",
    "print(len(transformed_calendarWeek[0]))\n",
    "transformed_weekDay = encoder.fit_transform(dataset[:,6])\n",
    "print(len(transformed_weekDay[0]))"
   ]
  },
  {
   "cell_type": "code",
   "execution_count": 98,
   "metadata": {},
   "outputs": [],
   "source": [
    "# Umformung der Zuschauer in eine Spalte (vorher war es nur eine Zeile)\n",
    "#print(np.reshape(dataset[:,3],(306,1)))\n"
   ]
  },
  {
   "cell_type": "code",
   "execution_count": 99,
   "metadata": {},
   "outputs": [],
   "source": [
    "# Featurescaling der Zuschaueranzahl & Hallenkapazitäten\n",
    "from sklearn.preprocessing import MinMaxScaler\n",
    "\n",
    "arenaKap_scaler=MinMaxScaler()\n",
    "arenaKap_scaler.fit([[0],[14500]]) #Maximum Berlin und 0 Minimum\n",
    "#reshaping\n",
    "transformed_zuschauer=arenaKap_scaler.transform(np.reshape(dataset[:,3],(306,1)))\n",
    "transformed_kap=arenaKap_scaler.transform(np.reshape(dataset[:,4],(306,1)))\n",
    "#print(transformed_kap)"
   ]
  },
  {
   "cell_type": "markdown",
   "metadata": {},
   "source": [
    "### Data - Zusammenfügen der Spalten home_ids, gast_ids,  zuschauer, Hallenkapazität, home_win"
   ]
  },
  {
   "cell_type": "code",
   "execution_count": 100,
   "metadata": {},
   "outputs": [
    {
     "name": "stdout",
     "output_type": "stream",
     "text": [
      "[['0' '1' '0' ... '0' '0' '0']\n",
      " ['0' '0' '0' ... '0' '0' '1']\n",
      " ['0' '0' '0' ... '0' '1' '0']\n",
      " ...\n",
      " ['0' '0' '1' ... '0' '0' '0']\n",
      " ['0' '0' '0' ... '0' '0' '1']\n",
      " ['0' '0' '0' ... '0' '1' '0']]\n"
     ]
    }
   ],
   "source": [
    "data=np.c_[transformed_home_ids,transformed_gast_ids,transformed_zuschauer,transformed_kap,dataset[:,2],transformed_calendarWeek,transformed_weekDay]\n",
    "np.random.shuffle(data)\n",
    "print(data)"
   ]
  },
  {
   "cell_type": "code",
   "execution_count": 101,
   "metadata": {},
   "outputs": [
    {
     "name": "stdout",
     "output_type": "stream",
     "text": [
      "78\n"
     ]
    }
   ],
   "source": [
    "print(len(data[0]))"
   ]
  },
  {
   "cell_type": "markdown",
   "metadata": {},
   "source": [
    "# Netz Modellierung"
   ]
  },
  {
   "cell_type": "code",
   "execution_count": 102,
   "metadata": {},
   "outputs": [
    {
     "name": "stdout",
     "output_type": "stream",
     "text": [
      "_________________________________________________________________\n",
      "Layer (type)                 Output Shape              Param #   \n",
      "=================================================================\n",
      "dense_29 (Dense)             (None, 77)                6006      \n",
      "_________________________________________________________________\n",
      "dense_30 (Dense)             (None, 1)                 78        \n",
      "=================================================================\n",
      "Total params: 6,084\n",
      "Trainable params: 6,084\n",
      "Non-trainable params: 0\n",
      "_________________________________________________________________\n",
      "Train on 214 samples, validate on 92 samples\n",
      "Epoch 1/50\n",
      "214/214 [==============================] - 0s 2ms/step - loss: 0.2442 - acc: 0.6963 - val_loss: 0.2385 - val_acc: 0.6630\n",
      "Epoch 2/50\n",
      "214/214 [==============================] - 0s 238us/step - loss: 0.2244 - acc: 0.7103 - val_loss: 0.2165 - val_acc: 0.6630\n",
      "Epoch 3/50\n",
      "214/214 [==============================] - 0s 237us/step - loss: 0.1929 - acc: 0.7103 - val_loss: 0.1959 - val_acc: 0.6630\n",
      "Epoch 4/50\n",
      "214/214 [==============================] - 0s 232us/step - loss: 0.1669 - acc: 0.7103 - val_loss: 0.1828 - val_acc: 0.6630\n",
      "Epoch 5/50\n",
      "214/214 [==============================] - 0s 233us/step - loss: 0.1434 - acc: 0.7290 - val_loss: 0.1647 - val_acc: 0.6739\n",
      "Epoch 6/50\n",
      "214/214 [==============================] - 0s 227us/step - loss: 0.1177 - acc: 0.8037 - val_loss: 0.1440 - val_acc: 0.7174\n",
      "Epoch 7/50\n",
      "214/214 [==============================] - 0s 227us/step - loss: 0.0903 - acc: 0.9299 - val_loss: 0.1198 - val_acc: 0.8370\n",
      "Epoch 8/50\n",
      "214/214 [==============================] - 0s 233us/step - loss: 0.0668 - acc: 0.9813 - val_loss: 0.0988 - val_acc: 0.8804\n",
      "Epoch 9/50\n",
      "214/214 [==============================] - 0s 233us/step - loss: 0.0484 - acc: 0.9860 - val_loss: 0.0869 - val_acc: 0.8804\n",
      "Epoch 10/50\n",
      "214/214 [==============================] - 0s 227us/step - loss: 0.0363 - acc: 1.0000 - val_loss: 0.0714 - val_acc: 0.9130\n",
      "Epoch 11/50\n",
      "214/214 [==============================] - 0s 217us/step - loss: 0.0275 - acc: 1.0000 - val_loss: 0.0641 - val_acc: 0.9130\n",
      "Epoch 12/50\n",
      "214/214 [==============================] - 0s 229us/step - loss: 0.0213 - acc: 1.0000 - val_loss: 0.0549 - val_acc: 0.9239\n",
      "Epoch 13/50\n",
      "214/214 [==============================] - 0s 224us/step - loss: 0.0164 - acc: 1.0000 - val_loss: 0.0514 - val_acc: 0.9239\n",
      "Epoch 14/50\n",
      "214/214 [==============================] - 0s 217us/step - loss: 0.0133 - acc: 1.0000 - val_loss: 0.0459 - val_acc: 0.9348\n",
      "Epoch 15/50\n",
      "214/214 [==============================] - 0s 221us/step - loss: 0.0107 - acc: 1.0000 - val_loss: 0.0413 - val_acc: 0.9348\n",
      "Epoch 16/50\n",
      "214/214 [==============================] - 0s 221us/step - loss: 0.0089 - acc: 1.0000 - val_loss: 0.0380 - val_acc: 0.9348\n",
      "Epoch 17/50\n",
      "214/214 [==============================] - 0s 228us/step - loss: 0.0074 - acc: 1.0000 - val_loss: 0.0360 - val_acc: 0.9348\n",
      "Epoch 18/50\n",
      "214/214 [==============================] - 0s 224us/step - loss: 0.0063 - acc: 1.0000 - val_loss: 0.0338 - val_acc: 0.9348\n",
      "Epoch 19/50\n",
      "214/214 [==============================] - 0s 222us/step - loss: 0.0055 - acc: 1.0000 - val_loss: 0.0310 - val_acc: 0.9457\n",
      "Epoch 20/50\n",
      "214/214 [==============================] - 0s 222us/step - loss: 0.0047 - acc: 1.0000 - val_loss: 0.0299 - val_acc: 0.9457\n",
      "Epoch 21/50\n",
      "214/214 [==============================] - 0s 219us/step - loss: 0.0041 - acc: 1.0000 - val_loss: 0.0285 - val_acc: 0.9565\n",
      "Epoch 22/50\n",
      "214/214 [==============================] - 0s 218us/step - loss: 0.0036 - acc: 1.0000 - val_loss: 0.0270 - val_acc: 0.9565\n",
      "Epoch 23/50\n",
      "214/214 [==============================] - 0s 221us/step - loss: 0.0032 - acc: 1.0000 - val_loss: 0.0258 - val_acc: 0.9674\n",
      "Epoch 24/50\n",
      "214/214 [==============================] - 0s 215us/step - loss: 0.0029 - acc: 1.0000 - val_loss: 0.0246 - val_acc: 0.9674\n",
      "Epoch 25/50\n",
      "214/214 [==============================] - 0s 211us/step - loss: 0.0026 - acc: 1.0000 - val_loss: 0.0242 - val_acc: 0.9674\n",
      "Epoch 26/50\n",
      "214/214 [==============================] - 0s 219us/step - loss: 0.0023 - acc: 1.0000 - val_loss: 0.0232 - val_acc: 0.9674\n",
      "Epoch 27/50\n",
      "214/214 [==============================] - 0s 222us/step - loss: 0.0021 - acc: 1.0000 - val_loss: 0.0216 - val_acc: 0.9674\n",
      "Epoch 28/50\n",
      "214/214 [==============================] - 0s 220us/step - loss: 0.0019 - acc: 1.0000 - val_loss: 0.0206 - val_acc: 0.9674\n",
      "Epoch 29/50\n",
      "214/214 [==============================] - 0s 218us/step - loss: 0.0017 - acc: 1.0000 - val_loss: 0.0206 - val_acc: 0.9674\n",
      "Epoch 30/50\n",
      "214/214 [==============================] - 0s 251us/step - loss: 0.0016 - acc: 1.0000 - val_loss: 0.0199 - val_acc: 0.9783\n",
      "Epoch 31/50\n",
      "214/214 [==============================] - 0s 232us/step - loss: 0.0015 - acc: 1.0000 - val_loss: 0.0190 - val_acc: 0.9783\n",
      "Epoch 32/50\n",
      "214/214 [==============================] - 0s 232us/step - loss: 0.0013 - acc: 1.0000 - val_loss: 0.0187 - val_acc: 0.9783\n",
      "Epoch 33/50\n",
      "214/214 [==============================] - 0s 232us/step - loss: 0.0012 - acc: 1.0000 - val_loss: 0.0180 - val_acc: 0.9891\n",
      "Epoch 34/50\n",
      "214/214 [==============================] - 0s 225us/step - loss: 0.0012 - acc: 1.0000 - val_loss: 0.0179 - val_acc: 0.9783\n",
      "Epoch 35/50\n",
      "214/214 [==============================] - 0s 224us/step - loss: 0.0011 - acc: 1.0000 - val_loss: 0.0174 - val_acc: 0.9891\n",
      "Epoch 36/50\n",
      "214/214 [==============================] - 0s 218us/step - loss: 0.0010 - acc: 1.0000 - val_loss: 0.0165 - val_acc: 0.9891\n",
      "Epoch 37/50\n",
      "214/214 [==============================] - 0s 216us/step - loss: 9.3850e-04 - acc: 1.0000 - val_loss: 0.0164 - val_acc: 0.9891\n",
      "Epoch 38/50\n",
      "214/214 [==============================] - 0s 218us/step - loss: 8.7991e-04 - acc: 1.0000 - val_loss: 0.0162 - val_acc: 0.9891\n",
      "Epoch 39/50\n",
      "214/214 [==============================] - 0s 210us/step - loss: 8.2511e-04 - acc: 1.0000 - val_loss: 0.0158 - val_acc: 0.9891\n",
      "Epoch 40/50\n",
      "214/214 [==============================] - 0s 219us/step - loss: 7.8003e-04 - acc: 1.0000 - val_loss: 0.0154 - val_acc: 0.9891\n",
      "Epoch 41/50\n",
      "214/214 [==============================] - 0s 214us/step - loss: 7.3500e-04 - acc: 1.0000 - val_loss: 0.0149 - val_acc: 0.9891\n",
      "Epoch 42/50\n",
      "214/214 [==============================] - 0s 216us/step - loss: 6.9112e-04 - acc: 1.0000 - val_loss: 0.0147 - val_acc: 0.9891\n",
      "Epoch 43/50\n",
      "214/214 [==============================] - 0s 225us/step - loss: 6.5402e-04 - acc: 1.0000 - val_loss: 0.0143 - val_acc: 0.9891\n",
      "Epoch 44/50\n",
      "214/214 [==============================] - 0s 221us/step - loss: 6.1748e-04 - acc: 1.0000 - val_loss: 0.0141 - val_acc: 0.9891\n",
      "Epoch 45/50\n",
      "214/214 [==============================] - 0s 215us/step - loss: 5.8614e-04 - acc: 1.0000 - val_loss: 0.0140 - val_acc: 0.9891\n",
      "Epoch 46/50\n",
      "214/214 [==============================] - 0s 218us/step - loss: 5.5496e-04 - acc: 1.0000 - val_loss: 0.0135 - val_acc: 0.9891\n",
      "Epoch 47/50\n",
      "214/214 [==============================] - 0s 221us/step - loss: 5.2821e-04 - acc: 1.0000 - val_loss: 0.0134 - val_acc: 0.9891\n",
      "Epoch 48/50\n",
      "214/214 [==============================] - 0s 218us/step - loss: 5.0293e-04 - acc: 1.0000 - val_loss: 0.0133 - val_acc: 0.9891\n",
      "Epoch 49/50\n",
      "214/214 [==============================] - 0s 224us/step - loss: 4.8032e-04 - acc: 1.0000 - val_loss: 0.0128 - val_acc: 0.9891\n",
      "Epoch 50/50\n",
      "214/214 [==============================] - 0s 215us/step - loss: 4.5807e-04 - acc: 1.0000 - val_loss: 0.0126 - val_acc: 0.9891\n"
     ]
    }
   ],
   "source": [
    "# Importing the Keras libraries and packages \n",
    "from keras.models import Sequential\n",
    "from keras.layers import Dense\n",
    "from keras import optimizers\n",
    "\n",
    "adam = optimizers.Adam(lr=0.001) # lernrate\n",
    "\n",
    "# Initialising the ANN\n",
    "regressor = Sequential()\n",
    "\n",
    "# Adding the input layer and the first hidden layer\n",
    "regressor.add(Dense(units = 77, kernel_initializer = 'uniform', activation = 'relu', input_shape = (77,)))\n",
    "\n",
    "# Adding the second hidden layer\n",
    "#regressor.add(Dense(units = 18, kernel_initializer = 'uniform', activation = 'relu'))\n",
    "\n",
    "# Adding the output layer\n",
    "regressor.add(Dense(units = 1, kernel_initializer = 'uniform', activation = 'sigmoid'))\n",
    "\n",
    "#Summary anzeigen\n",
    "regressor.summary()\n",
    "\n",
    "# Compiling the ANN - wie soll es lernen\n",
    "regressor.compile(optimizer = adam, loss = 'mean_squared_error', metrics = ['accuracy'])#binary_crossentropy\n",
    "\n",
    "# Fitting the ANN to the Training set \n",
    "#input = data[:,0:4] output= (data[:,4]\n",
    "history = regressor.fit(data[:,0:77], data[:,77], batch_size = 10, epochs = 50, validation_split = 0.3)\n",
    "\n",
    "\n",
    "\n"
   ]
  },
  {
   "cell_type": "code",
   "execution_count": 103,
   "metadata": {
    "scrolled": false
   },
   "outputs": [
    {
     "data": {
      "image/png": "[encoded data removed]",
      "text/plain": [
       "<Figure size 576x432 with 1 Axes>"
      ]
     },
     "metadata": {},
     "output_type": "display_data"
    }
   ],
   "source": [
    "#\n",
    "import matplotlib.pyplot as plt\n",
    "\n",
    "handles = []\n",
    "\n",
    "label, = plt.plot(history.history['acc'], label=\"acc\")\n",
    "handles.append(label)\n",
    "label, = plt.plot(history.history['val_acc'], label=\"val_acc\")\n",
    "handles.append(label)\n",
    "plt.title('Kostenfunktion')\n",
    "plt.ylabel('Kosten')\n",
    "plt.xlabel('Epochen')\n",
    "plt.legend(handles=handles, loc='upper right')\n",
    "figure = plt.gcf() # get current figure\n",
    "figure.set_size_inches(8, 6) # um die größe des Plots anzupassen\n",
    "#plt.savefig(pathpathpaht) # hiermit kannst das ding als auch als bild an dem angegebenen ort plus name ablegen\n",
    "plt.show()\n",
    "\n"
   ]
  },
  {
   "cell_type": "code",
   "execution_count": 105,
   "metadata": {},
   "outputs": [
    {
     "data": {
      "image/png": "[encoded data removed]",
      "text/plain": [
       "<Figure size 576x432 with 1 Axes>"
      ]
     },
     "metadata": {},
     "output_type": "display_data"
    }
   ],
   "source": [
    "handles = []\n",
    "\n",
    "label, = plt.plot(history.history['loss'], label=\"loss\")\n",
    "handles.append(label)\n",
    "label, = plt.plot(history.history['val_loss'], label=\"val_loss\")\n",
    "handles.append(label)\n",
    "plt.title('Kostenfunktion')\n",
    "plt.ylabel('Kosten')\n",
    "plt.xlabel('Epochen')\n",
    "plt.legend(handles=handles, loc='upper right')\n",
    "figure = plt.gcf() # get current figure\n",
    "figure.set_size_inches(8, 6) # um die größe des Plots anzupassen\n",
    "#plt.savefig(pathpathpaht) # hiermit kannst das ding als auch als bild an dem angegebenen ort plus name ablegen\n",
    "plt.show()"
   ]
  },
  {
   "cell_type": "code",
   "execution_count": 46,
   "metadata": {},
   "outputs": [],
   "source": [
    "import time as tm\n",
    "import datetime\n",
    "import pickle\n",
    "      \n",
    "        \n",
    "def create_file_name():\n",
    "    ts = tm.time()\n",
    "    name = datetime.datetime.fromtimestamp(ts).strftime('%Y%m%d%H%M%S') + '_ann'\n",
    "    return name\n",
    "\n",
    "path='./Netze/'\n",
    "name_file= create_file_name()\n",
    "\n"
   ]
  },
  {
   "cell_type": "code",
   "execution_count": 47,
   "metadata": {},
   "outputs": [],
   "source": [
    "with open(path + name_file + '.pkl', 'wb') as output:\n",
    "    ann_net = {'history_val_loss':history.history['val_loss'],'history_loss':history.history['loss']}\n",
    "    pickle.dump(ann_net, output)"
   ]
  },
  {
   "cell_type": "code",
   "execution_count": 96,
   "metadata": {},
   "outputs": [
    {
     "name": "stdout",
     "output_type": "stream",
     "text": [
      "10\n"
     ]
    }
   ],
   "source": [
    "with open(path + '20180521172401_ann.pkl', 'rb') as input:\n",
    "    ann_net = pickle.load(input)\n",
    "    print(ann_net[15])"
   ]
  },
  {
   "cell_type": "code",
   "execution_count": null,
   "metadata": {},
   "outputs": [],
   "source": []
  }
 ],
 "metadata": {
  "kernelspec": {
   "display_name": "Python 3",
   "language": "python",
   "name": "python3"
  },
  "language_info": {
   "codemirror_mode": {
    "name": "ipython",
    "version": 3
   },
   "file_extension": ".py",
   "mimetype": "text/x-python",
   "name": "python",
   "nbconvert_exporter": "python",
   "pygments_lexer": "ipython3",
   "version": "3.6.3"
  }
 },
 "nbformat": 4,
 "nbformat_minor": 2
}
