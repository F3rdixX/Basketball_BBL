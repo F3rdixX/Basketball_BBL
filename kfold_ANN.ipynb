{
 "cells": [
  {
   "cell_type": "code",
   "execution_count": 1,
   "metadata": {},
   "outputs": [
    {
     "name": "stderr",
     "output_type": "stream",
     "text": [
      "Using TensorFlow backend.\n"
     ]
    }
   ],
   "source": [
    "import keras\n"
   ]
  },
  {
   "cell_type": "markdown",
   "metadata": {},
   "source": [
    "# Data Set Preprocessing\n"
   ]
  },
  {
   "cell_type": "code",
   "execution_count": 2,
   "metadata": {
    "scrolled": true
   },
   "outputs": [],
   "source": [
    "import urllib.request, json \n",
    "with urllib.request.urlopen(\"http://statistik.easycredit-bbl.de/XML/exchange/540/Schedule.php?type=json&saison=2017&fixedGamesOnly=0\") as url:\n",
    "    games = json.loads(url.read().decode())\n",
    "    #print(json.dumps(games, indent=4, sort_keys=True))\n",
    "    "
   ]
  },
  {
   "cell_type": "code",
   "execution_count": 3,
   "metadata": {},
   "outputs": [],
   "source": [
    "\n",
    "\n",
    "arena=[]\n",
    "home_ids=[]\n",
    "for i in range(0,len(games['competition'][0]['spiel'])):\n",
    "               \n",
    "    if games['competition'][0]['spiel'][i]['home_id'] not in home_ids:\n",
    "        arena.append(games['competition'][0]['spiel'][i]['arenaName'])\n",
    "        home_ids.append(games['competition'][0]['spiel'][i]['home_id'])\n",
    "\n",
    "               "
   ]
  },
  {
   "cell_type": "code",
   "execution_count": 4,
   "metadata": {},
   "outputs": [
    {
     "name": "stdout",
     "output_type": "stream",
     "text": [
      "2017-09-29 20:30:00\n",
      "39\n",
      "5\n"
     ]
    }
   ],
   "source": [
    "from datetime import datetime\n",
    "\n",
    "datetime_object = datetime.strptime(games['competition'][0]['spiel'][0]['datum']+\" \"+games['competition'][0]['spiel'][0]['uhrzeit']  , '%Y-%m-%d %H:%M:%S')\n",
    "\n",
    "print(datetime_object)\n",
    "print(datetime_object.strftime('%U'))\n",
    "print(datetime_object.strftime('%w'))\n"
   ]
  },
  {
   "cell_type": "code",
   "execution_count": 5,
   "metadata": {},
   "outputs": [
    {
     "name": "stdout",
     "output_type": "stream",
     "text": [
      "{486: 6594, 413: 14500, 433: 4200, 420: 6150, 415: 6000, 425: 3300, 430: 6000, 426: 5002, 540: 3140, 418: 6200, 421: 4003, 422: 3603, 483: 3076, 477: 3447, 428: 3000, 439: 4200, 517: 3533, 432: 3132}\n",
      "18\n"
     ]
    }
   ],
   "source": [
    "#dictionary für die Hallenkapazitäten\n",
    "arenakap = {486:6594,413:14500,433:4200,420:6150,415:6000,425:3300,430:6000,426:5002,540:3140,418:6200,421:4003,422:3603,483:3076,477:3447,428:3000,439:4200,517:3533,432:3132}\n",
    "print(arenakap)\n",
    "print(len(arenakap))\n"
   ]
  },
  {
   "cell_type": "code",
   "execution_count": 6,
   "metadata": {},
   "outputs": [
    {
     "name": "stdout",
     "output_type": "stream",
     "text": [
      "<class 'str'>\n"
     ]
    }
   ],
   "source": [
    "print(type(games['competition'][0]['spiel'][0]['home_id']))\n",
    "#Die JSON Informationen sind als String angegeben"
   ]
  },
  {
   "cell_type": "markdown",
   "metadata": {},
   "source": [
    "Deshalb parse (int) ich die Zuschauer und home_id für die weitere Berechnung"
   ]
  },
  {
   "cell_type": "code",
   "execution_count": 31,
   "metadata": {
    "scrolled": true
   },
   "outputs": [
    {
     "name": "stdout",
     "output_type": "stream",
     "text": [
      "['39', '40', '41', '42', '43', '44', '45', '46', '47', '48', '49', '50', '51', '52', '00', '01', '02', '03', '04', '05', '06', '07', '08', '09', '10', '11', '12', '13', '14', '15', '16', '17']\n",
      "['5', '6', '1', '2', '3', '4', '0']\n"
     ]
    }
   ],
   "source": [
    "#Dataset zusammenstellen\n",
    "dataset=[]\n",
    "calendarWeeks=[]\n",
    "weekDays=[]\n",
    "\n",
    "for i in range(0,len(games['competition'][0]['spiel'])):\n",
    "    datasetrow=[]     \n",
    "    datasetrow.append(games['competition'][0]['spiel'][i]['home_id'])\n",
    "    datasetrow.append(games['competition'][0]['spiel'][i]['gast_id'])\n",
    "    datasetrow.append(int(games['competition'][0]['spiel'][i]['home_result']>games['competition'][0]['spiel'][i]['gast_result']))\n",
    "    datasetrow.append(int(games['competition'][0]['spiel'][i]['zuschauer']))\n",
    "    datasetrow.append(arenakap[int(games['competition'][0]['spiel'][i]['home_id'])])\n",
    "    datetime_object = datetime.strptime(games['competition'][0]['spiel'][i]['datum']+\" \"+games['competition'][0]['spiel'][i]['uhrzeit']  , '%Y-%m-%d %H:%M:%S')\n",
    "    kw = datetime_object.strftime('%U')\n",
    "    #datasetrow.append(datetime_object.strftime('%U'))\n",
    "    if kw not in calendarWeeks:\n",
    "        calendarWeeks.append(kw)\n",
    "    days = datetime_object.strftime('%w')\n",
    "    #datasetrow.append(datetime_object.strftime('%w'))\n",
    "    if days not in weekDays:\n",
    "        weekDays.append(days)\n",
    "    \n",
    "    dataset.append(datasetrow)\n",
    "\n",
    "#print(dataset)\n",
    "print(calendarWeeks)\n",
    "print(weekDays)\n",
    "# Eingangsneuronen - abhängig vom Dataset --> KW (32) Days (7)"
   ]
  },
  {
   "cell_type": "code",
   "execution_count": 32,
   "metadata": {},
   "outputs": [
    {
     "name": "stdout",
     "output_type": "stream",
     "text": [
      "['540' '422' '483' '418' '477' '421' '432' '428' '413' '420' '426' '483'\n",
      " '425' '486' '517' '415' '439' '413' '517' '477' '418' '428' '430' '540'\n",
      " '432' '422' '421' '433' '426' '430' '477' '486' '483' '433' '432' '415'\n",
      " '425' '418' '413' '422' '428' '486' '421' '540' '421' '413' '422' '477'\n",
      " '415' '433' '430' '439' '426' '418' '540' '486' '428' '483' '420' '425'\n",
      " '432' '517' '477' '422' '421' '432' '483' '439' '413' '426' '433' '420'\n",
      " '428' '418' '430' '425' '439' '415' '486' '517' '420' '477' '426' '430'\n",
      " '432' '421' '540' '415' '486' '439' '413' '486' '422' '425' '418' '433'\n",
      " '483' '517' '420' '428' '426' '540' '486' '432' '420' '421' '415' '425'\n",
      " '420' '439' '422' '418' '477' '433' '517' '430' '426' '483' '421' '418'\n",
      " '425' '428' '413' '540' '432' '422' '426' '517' '477' '420' '433' '483'\n",
      " '413' '540' '415' '418' '517' '439' '432' '428' '430' '425' '422' '477'\n",
      " '439' '421' '433' '430' '426' '428' '420' '421' '415' '430' '428' '439'\n",
      " '415' '517' '540' '413' '418' '421' '433' '432' '425' '415' '422' '428'\n",
      " '439' '477' '486' '430' '413' '483' '426' '517' '422' '540' '418' '430'\n",
      " '483' '425' '415' '428' '420' '413' '418' '425' '432' '433' '486' '483'\n",
      " '540' '422' '433' '439' '477' '413' '433' '426' '483' '421' '425' '477'\n",
      " '432' '439' '517' '418' '486' '415' '540' '483' '413' '418' '422' '421'\n",
      " '420' '428' '430' '426' '477' '432' '540' '425' '433' '517' '439' '486'\n",
      " '415' '477' '426' '517' '421' '430' '483' '517' '413' '418' '420' '422'\n",
      " '426' '486' '425' '477' '486' '540' '433' '432' '428' '439' '415' '420'\n",
      " '477' '413' '421' '483' '420' '430' '426' '422' '517' '540' '439' '420'\n",
      " '425' '428' '415' '433' '486' '432' '486' '418' '430' '421' '426' '422'\n",
      " '540' '425' '517' '439' '420' '413' '483' '428' '433' '415' '432' '430'\n",
      " '486' '421' '517' '426' '477' '418' '420' '432' '425' '433' '439' '415'\n",
      " '483' '422' '413' '430' '540' '428']\n",
      "306\n"
     ]
    }
   ],
   "source": [
    "# Umwandlung des Datasets in ein Numpy Array \n",
    "import numpy as np\n",
    "# : -> auslesen aller zeilen\n",
    "dataset=np.asarray(dataset)\n",
    "print(dataset[:,0])\n",
    "print(len(dataset))"
   ]
  },
  {
   "cell_type": "markdown",
   "metadata": {},
   "source": [
    "One hot encoding\n",
    "\n"
   ]
  },
  {
   "cell_type": "code",
   "execution_count": 33,
   "metadata": {},
   "outputs": [
    {
     "name": "stdout",
     "output_type": "stream",
     "text": [
      "[[0 0 0 ... 0 0 1]\n",
      " [0 0 0 ... 0 0 0]\n",
      " [0 0 0 ... 0 0 0]\n",
      " ...\n",
      " [0 0 0 ... 0 0 0]\n",
      " [0 0 0 ... 0 0 1]\n",
      " [0 0 0 ... 0 0 0]]\n"
     ]
    }
   ],
   "source": [
    "from sklearn.preprocessing import LabelBinarizer\n",
    "encoder = LabelBinarizer()\n",
    "transformed_home_ids = encoder.fit_transform(dataset[:,0])\n",
    "\n",
    "print(transformed_home_ids)"
   ]
  },
  {
   "cell_type": "code",
   "execution_count": 34,
   "metadata": {},
   "outputs": [
    {
     "name": "stdout",
     "output_type": "stream",
     "text": [
      "[[0 0 0 ... 0 0 0]\n",
      " [0 0 0 ... 0 0 0]\n",
      " [0 0 0 ... 0 0 0]\n",
      " ...\n",
      " [0 0 0 ... 0 0 0]\n",
      " [0 0 0 ... 0 0 0]\n",
      " [0 0 0 ... 0 0 0]]\n"
     ]
    }
   ],
   "source": [
    "#ohne fit, damit die Teams eindeutig bleiben, nur transformation notwendig\n",
    "transformed_gast_ids = encoder.transform(dataset[:,1])\n",
    "print(transformed_gast_ids)"
   ]
  },
  {
   "cell_type": "code",
   "execution_count": 16,
   "metadata": {},
   "outputs": [
    {
     "name": "stdout",
     "output_type": "stream",
     "text": [
      "32\n",
      "7\n"
     ]
    }
   ],
   "source": [
    "#transformed_calendarWeek = encoder.fit_transform(dataset[:,5])\n",
    "#print(len(transformed_calendarWeek[0]))\n",
    "#transformed_weekDay = encoder.fit_transform(dataset[:,6])\n",
    "#print(len(transformed_weekDay[0]))"
   ]
  },
  {
   "cell_type": "code",
   "execution_count": 17,
   "metadata": {},
   "outputs": [],
   "source": [
    "# Umformung der Zuschauer in eine Spalte (vorher war es nur eine Zeile)\n",
    "#print(np.reshape(dataset[:,3],(306,1)))\n"
   ]
  },
  {
   "cell_type": "code",
   "execution_count": 35,
   "metadata": {},
   "outputs": [],
   "source": [
    "# Featurescaling der Zuschaueranzahl & Hallenkapazitäten\n",
    "from sklearn.preprocessing import MinMaxScaler\n",
    "\n",
    "arenaKap_scaler=MinMaxScaler()\n",
    "arenaKap_scaler.fit([[0],[14500]]) #Maximum Berlin und 0 Minimum\n",
    "#reshaping\n",
    "transformed_zuschauer=arenaKap_scaler.transform(np.reshape(dataset[:,3],(306,1)))\n",
    "transformed_kap=arenaKap_scaler.transform(np.reshape(dataset[:,4],(306,1)))\n",
    "#print(transformed_kap)"
   ]
  },
  {
   "cell_type": "markdown",
   "metadata": {},
   "source": [
    "### Data - Zusammenfügen der Spalten home_ids, gast_ids,  zuschauer, Hallenkapazität, home_win"
   ]
  },
  {
   "cell_type": "code",
   "execution_count": 37,
   "metadata": {},
   "outputs": [
    {
     "name": "stdout",
     "output_type": "stream",
     "text": [
      "[['0' '0' '0' ... '0.15655172413793103' '0.2896551724137931' '1']\n",
      " ['0' '0' '0' ... '0.3351724137931035' '0.3449655172413793' '1']\n",
      " ['0' '0' '0' ... '0.20917241379310345' '0.22758620689655173' '1']\n",
      " ...\n",
      " ['0' '0' '0' ... '0.24848275862068966' '0.24848275862068966' '1']\n",
      " ['0' '0' '0' ... '0.2896551724137931' '0.2896551724137931' '0']\n",
      " ['1' '0' '0' ... '0.6026896551724138' '1.0' '0']]\n"
     ]
    }
   ],
   "source": [
    "data=np.c_[transformed_home_ids,transformed_gast_ids,transformed_zuschauer,transformed_kap,dataset[:,2]]#transformed_calendarWeek,transformed_weekDay\n",
    "np.random.shuffle(data)\n",
    "print(data)"
   ]
  },
  {
   "cell_type": "code",
   "execution_count": 38,
   "metadata": {},
   "outputs": [
    {
     "name": "stdout",
     "output_type": "stream",
     "text": [
      "39\n"
     ]
    }
   ],
   "source": [
    "print(len(data[0]))\n",
    "\n",
    "bla = len(data[0])-1"
   ]
  },
  {
   "cell_type": "markdown",
   "metadata": {},
   "source": [
    "# Netz Modellierung"
   ]
  },
  {
   "cell_type": "code",
   "execution_count": 41,
   "metadata": {
    "scrolled": false
   },
   "outputs": [
    {
     "name": "stdout",
     "output_type": "stream",
     "text": [
      "acc: 68.75%\n",
      "acc: 64.52%\n",
      "acc: 61.29%\n",
      "acc: 70.97%\n",
      "acc: 61.29%\n",
      "acc: 73.33%\n",
      "acc: 70.00%\n",
      "acc: 70.00%\n",
      "acc: 53.33%\n",
      "acc: 73.33%\n",
      "66.68% (+/- 6.12%)\n"
     ]
    }
   ],
   "source": [
    "# Importing the Keras libraries and packages \n",
    "from keras.models import Sequential\n",
    "from keras.layers import Dense\n",
    "from keras import optimizers\n",
    "from sklearn.model_selection import StratifiedKFold\n",
    "\n",
    "adam = optimizers.Adam(lr=0.001) # lernrate\n",
    "\n",
    "kfold = StratifiedKFold(n_splits=10, shuffle=True, random_state=7)\n",
    "cvscores = []\n",
    "X=data[:,0:bla]\n",
    "Y=data[:,bla]\n",
    "for train, test in kfold.split(X, Y):\n",
    "\n",
    "    # Initialising the ANN\n",
    "    regressor = Sequential()\n",
    "\n",
    "    # Adding the input layer and the first hidden layer\n",
    "    regressor.add(Dense(units = bla, kernel_initializer = 'uniform', activation = 'relu', input_shape = (bla,)))\n",
    "\n",
    "    # Adding the second hidden layer\n",
    "    #regressor.add(Dense(units = 18, kernel_initializer = 'uniform', activation = 'relu'))\n",
    "\n",
    "    # Adding the output layer\n",
    "    regressor.add(Dense(units = 1, kernel_initializer = 'uniform', activation = 'sigmoid'))\n",
    "\n",
    "    #Summary anzeigen\n",
    "   # regressor.summary()\n",
    "\n",
    "    # Compiling the ANN - wie soll es lernen\n",
    "    regressor.compile(optimizer = adam, loss = 'mean_squared_error', metrics = ['accuracy'])#binary_crossentropy\n",
    "\n",
    "    # Fitting the ANN to the Training set \n",
    "    #input = data[:,0:4] output= (data[:,4]\n",
    "    history = regressor.fit(X[train], Y[train], batch_size = 10, epochs = 100, verbose=0)\n",
    "\n",
    "    # evaluate the regressor\n",
    "    scores = regressor.evaluate(X[test], Y[test], verbose=0)\n",
    "    print(\"%s: %.2f%%\" % (regressor.metrics_names[1], scores[1]*100))\n",
    "    cvscores.append(scores[1] * 100)\n",
    "print(\"%.2f%% (+/- %.2f%%)\" % (np.mean(cvscores), np.std(cvscores)))\n",
    "\n",
    " "
   ]
  },
  {
   "cell_type": "code",
   "execution_count": 40,
   "metadata": {
    "scrolled": true
   },
   "outputs": [
    {
     "ename": "KeyError",
     "evalue": "'val_acc'",
     "output_type": "error",
     "traceback": [
      "\u001b[0;31m---------------------------------------------------------------------------\u001b[0m",
      "\u001b[0;31mKeyError\u001b[0m                                  Traceback (most recent call last)",
      "\u001b[0;32m<ipython-input-40-42411eccfa6d>\u001b[0m in \u001b[0;36m<module>\u001b[0;34m()\u001b[0m\n\u001b[1;32m      6\u001b[0m \u001b[0mlabel\u001b[0m\u001b[0;34m,\u001b[0m \u001b[0;34m=\u001b[0m \u001b[0mplt\u001b[0m\u001b[0;34m.\u001b[0m\u001b[0mplot\u001b[0m\u001b[0;34m(\u001b[0m\u001b[0mhistory\u001b[0m\u001b[0;34m.\u001b[0m\u001b[0mhistory\u001b[0m\u001b[0;34m[\u001b[0m\u001b[0;34m'acc'\u001b[0m\u001b[0;34m]\u001b[0m\u001b[0;34m,\u001b[0m \u001b[0mlabel\u001b[0m\u001b[0;34m=\u001b[0m\u001b[0;34m\"acc\"\u001b[0m\u001b[0;34m)\u001b[0m\u001b[0;34m\u001b[0m\u001b[0m\n\u001b[1;32m      7\u001b[0m \u001b[0mhandles\u001b[0m\u001b[0;34m.\u001b[0m\u001b[0mappend\u001b[0m\u001b[0;34m(\u001b[0m\u001b[0mlabel\u001b[0m\u001b[0;34m)\u001b[0m\u001b[0;34m\u001b[0m\u001b[0m\n\u001b[0;32m----> 8\u001b[0;31m \u001b[0mlabel\u001b[0m\u001b[0;34m,\u001b[0m \u001b[0;34m=\u001b[0m \u001b[0mplt\u001b[0m\u001b[0;34m.\u001b[0m\u001b[0mplot\u001b[0m\u001b[0;34m(\u001b[0m\u001b[0mhistory\u001b[0m\u001b[0;34m.\u001b[0m\u001b[0mhistory\u001b[0m\u001b[0;34m[\u001b[0m\u001b[0;34m'val_acc'\u001b[0m\u001b[0;34m]\u001b[0m\u001b[0;34m,\u001b[0m \u001b[0mlabel\u001b[0m\u001b[0;34m=\u001b[0m\u001b[0;34m\"val_acc\"\u001b[0m\u001b[0;34m)\u001b[0m\u001b[0;34m\u001b[0m\u001b[0m\n\u001b[0m\u001b[1;32m      9\u001b[0m \u001b[0mhandles\u001b[0m\u001b[0;34m.\u001b[0m\u001b[0mappend\u001b[0m\u001b[0;34m(\u001b[0m\u001b[0mlabel\u001b[0m\u001b[0;34m)\u001b[0m\u001b[0;34m\u001b[0m\u001b[0m\n\u001b[1;32m     10\u001b[0m \u001b[0mplt\u001b[0m\u001b[0;34m.\u001b[0m\u001b[0mtitle\u001b[0m\u001b[0;34m(\u001b[0m\u001b[0;34m'Kostenfunktion'\u001b[0m\u001b[0;34m)\u001b[0m\u001b[0;34m\u001b[0m\u001b[0m\n",
      "\u001b[0;31mKeyError\u001b[0m: 'val_acc'"
     ]
    }
   ],
   "source": [
    "#\n",
    "import matplotlib.pyplot as plt\n",
    "\n",
    "handles = []\n",
    "\n",
    "label, = plt.plot(history.history['acc'], label=\"acc\")\n",
    "handles.append(label)\n",
    "label, = plt.plot(history.history['val_acc'], label=\"val_acc\")\n",
    "handles.append(label)\n",
    "plt.title('Kostenfunktion')\n",
    "plt.ylabel('Kosten')\n",
    "plt.xlabel('Epochen')\n",
    "plt.legend(handles=handles, loc='upper right')\n",
    "figure = plt.gcf() # get current figure\n",
    "figure.set_size_inches(8, 6) # um die größe des Plots anzupassen\n",
    "#plt.savefig(pathpathpaht) # hiermit kannst das ding als auch als bild an dem angegebenen ort plus name ablegen\n",
    "plt.show()\n",
    "\n"
   ]
  },
  {
   "cell_type": "code",
   "execution_count": 75,
   "metadata": {},
   "outputs": [
    {
     "data": {
      "image/png": "[encoded data removed]",
      "text/plain": [
       "<Figure size 576x432 with 1 Axes>"
      ]
     },
     "metadata": {},
     "output_type": "display_data"
    }
   ],
   "source": [
    "handles = []\n",
    "\n",
    "label, = plt.plot(history.history['loss'], label=\"loss\")\n",
    "handles.append(label)\n",
    "label, = plt.plot(history.history['val_loss'], label=\"val_loss\")\n",
    "handles.append(label)\n",
    "plt.title('Kostenfunktion')\n",
    "plt.ylabel('Kosten')\n",
    "plt.xlabel('Epochen')\n",
    "plt.legend(handles=handles, loc='upper right')\n",
    "figure = plt.gcf() # get current figure\n",
    "figure.set_size_inches(8, 6) # um die größe des Plots anzupassen\n",
    "#plt.savefig(pathpathpaht) # hiermit kannst das ding als auch als bild an dem angegebenen ort plus name ablegen\n",
    "plt.show()"
   ]
  },
  {
   "cell_type": "code",
   "execution_count": 46,
   "metadata": {},
   "outputs": [],
   "source": [
    "import time as tm\n",
    "import datetime\n",
    "import pickle\n",
    "      \n",
    "        \n",
    "def create_file_name():\n",
    "    ts = tm.time()\n",
    "    name = datetime.datetime.fromtimestamp(ts).strftime('%Y%m%d%H%M%S') + '_ann'\n",
    "    return name\n",
    "\n",
    "path='./Netze/'\n",
    "name_file= create_file_name()\n",
    "\n"
   ]
  },
  {
   "cell_type": "code",
   "execution_count": 47,
   "metadata": {},
   "outputs": [],
   "source": [
    "with open(path + name_file + '.pkl', 'wb') as output:\n",
    "    ann_net = {'history_val_loss':history.history['val_loss'],'history_loss':history.history['loss']}\n",
    "    pickle.dump(ann_net, output)"
   ]
  },
  {
   "cell_type": "code",
   "execution_count": 96,
   "metadata": {},
   "outputs": [
    {
     "name": "stdout",
     "output_type": "stream",
     "text": [
      "10\n"
     ]
    }
   ],
   "source": [
    "with open(path + '20180521172401_ann.pkl', 'rb') as input:\n",
    "    ann_net = pickle.load(input)\n",
    "    print(ann_net[15])"
   ]
  },
  {
   "cell_type": "code",
   "execution_count": null,
   "metadata": {},
   "outputs": [],
   "source": []
  }
 ],
 "metadata": {
  "kernelspec": {
   "display_name": "Python 3",
   "language": "python",
   "name": "python3"
  },
  "language_info": {
   "codemirror_mode": {
    "name": "ipython",
    "version": 3
   },
   "file_extension": ".py",
   "mimetype": "text/x-python",
   "name": "python",
   "nbconvert_exporter": "python",
   "pygments_lexer": "ipython3",
   "version": "3.6.3"
  }
 },
 "nbformat": 4,
 "nbformat_minor": 2
}
